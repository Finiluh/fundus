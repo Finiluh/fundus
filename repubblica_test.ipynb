{
 "cells": [
  {
   "cell_type": "code",
   "execution_count": 1,
   "metadata": {},
   "outputs": [
    {
     "name": "stdout",
     "output_type": "stream",
     "text": [
      "{<class 'fundus.scraping.url.RSSFeed'>: [RSSFeed(url='https://www.repubblica.it/rss/homepage/rss2.0.xml', _request_header={'user-agent': 'Fundus'})], <class 'fundus.scraping.url.NewsMap'>: [], <class 'fundus.scraping.url.Sitemap'>: [Sitemap(url='https://www.repubblica.it/sitemap-2025-01.xml', _request_header={'user-agent': 'Fundus'}, recursive=True, reverse=False, sitemap_filter=<function Sitemap.<lambda> at 0x000001EF3C934700>), Sitemap(url='https://www.repubblica.it/sitemap-2024-12.xml', _request_header={'user-agent': 'Fundus'}, recursive=True, reverse=False, sitemap_filter=<function Sitemap.<lambda> at 0x000001EF3C934700>), Sitemap(url='https://www.repubblica.it/sitemap-2024-11.xml', _request_header={'user-agent': 'Fundus'}, recursive=True, reverse=False, sitemap_filter=<function Sitemap.<lambda> at 0x000001EF3C934700>), Sitemap(url='https://www.repubblica.it/sitemap-2024-10.xml', _request_header={'user-agent': 'Fundus'}, recursive=True, reverse=False, sitemap_filter=<function Sitemap.<lambda> at 0x000001EF3C934700>), Sitemap(url='https://www.repubblica.it/sitemap-2024-09.xml', _request_header={'user-agent': 'Fundus'}, recursive=True, reverse=False, sitemap_filter=<function Sitemap.<lambda> at 0x000001EF3C934700>), Sitemap(url='https://www.repubblica.it/sitemap-2024-08.xml', _request_header={'user-agent': 'Fundus'}, recursive=True, reverse=False, sitemap_filter=<function Sitemap.<lambda> at 0x000001EF3C934700>), Sitemap(url='https://www.repubblica.it/sitemap-2024-07.xml', _request_header={'user-agent': 'Fundus'}, recursive=True, reverse=False, sitemap_filter=<function Sitemap.<lambda> at 0x000001EF3C934700>), Sitemap(url='https://www.repubblica.it/sitemap-2024-06.xml', _request_header={'user-agent': 'Fundus'}, recursive=True, reverse=False, sitemap_filter=<function Sitemap.<lambda> at 0x000001EF3C934700>), Sitemap(url='https://www.repubblica.it/sitemap-2024-05.xml', _request_header={'user-agent': 'Fundus'}, recursive=True, reverse=False, sitemap_filter=<function Sitemap.<lambda> at 0x000001EF3C934700>), Sitemap(url='https://www.repubblica.it/sitemap-2024-04.xml', _request_header={'user-agent': 'Fundus'}, recursive=True, reverse=False, sitemap_filter=<function Sitemap.<lambda> at 0x000001EF3C934700>), Sitemap(url='https://www.repubblica.it/sitemap-2024-03.xml', _request_header={'user-agent': 'Fundus'}, recursive=True, reverse=False, sitemap_filter=<function Sitemap.<lambda> at 0x000001EF3C934700>), Sitemap(url='https://www.repubblica.it/sitemap-2024-02.xml', _request_header={'user-agent': 'Fundus'}, recursive=True, reverse=False, sitemap_filter=<function Sitemap.<lambda> at 0x000001EF3C934700>), Sitemap(url='https://www.repubblica.it/sitemap-2024-01.xml', _request_header={'user-agent': 'Fundus'}, recursive=True, reverse=False, sitemap_filter=<function Sitemap.<lambda> at 0x000001EF3C934700>), Sitemap(url='https://www.repubblica.it/sitemap-2023-12.xml', _request_header={'user-agent': 'Fundus'}, recursive=True, reverse=False, sitemap_filter=<function Sitemap.<lambda> at 0x000001EF3C934700>), Sitemap(url='https://www.repubblica.it/sitemap-2023-11.xml', _request_header={'user-agent': 'Fundus'}, recursive=True, reverse=False, sitemap_filter=<function Sitemap.<lambda> at 0x000001EF3C934700>), Sitemap(url='https://www.repubblica.it/sitemap-2023-10.xml', _request_header={'user-agent': 'Fundus'}, recursive=True, reverse=False, sitemap_filter=<function Sitemap.<lambda> at 0x000001EF3C934700>), Sitemap(url='https://www.repubblica.it/sitemap-2023-09.xml', _request_header={'user-agent': 'Fundus'}, recursive=True, reverse=False, sitemap_filter=<function Sitemap.<lambda> at 0x000001EF3C934700>), Sitemap(url='https://www.repubblica.it/sitemap-2023-08.xml', _request_header={'user-agent': 'Fundus'}, recursive=True, reverse=False, sitemap_filter=<function Sitemap.<lambda> at 0x000001EF3C934700>), Sitemap(url='https://www.repubblica.it/sitemap-2023-07.xml', _request_header={'user-agent': 'Fundus'}, recursive=True, reverse=False, sitemap_filter=<function Sitemap.<lambda> at 0x000001EF3C934700>), Sitemap(url='https://www.repubblica.it/sitemap-2023-06.xml', _request_header={'user-agent': 'Fundus'}, recursive=True, reverse=False, sitemap_filter=<function Sitemap.<lambda> at 0x000001EF3C934700>), Sitemap(url='https://www.repubblica.it/sitemap-2023-05.xml', _request_header={'user-agent': 'Fundus'}, recursive=True, reverse=False, sitemap_filter=<function Sitemap.<lambda> at 0x000001EF3C934700>), Sitemap(url='https://www.repubblica.it/sitemap-2023-04.xml', _request_header={'user-agent': 'Fundus'}, recursive=True, reverse=False, sitemap_filter=<function Sitemap.<lambda> at 0x000001EF3C934700>), Sitemap(url='https://www.repubblica.it/sitemap-2023-03.xml', _request_header={'user-agent': 'Fundus'}, recursive=True, reverse=False, sitemap_filter=<function Sitemap.<lambda> at 0x000001EF3C934700>), Sitemap(url='https://www.repubblica.it/sitemap-2023-02.xml', _request_header={'user-agent': 'Fundus'}, recursive=True, reverse=False, sitemap_filter=<function Sitemap.<lambda> at 0x000001EF3C934700>), Sitemap(url='https://www.repubblica.it/sitemap-2023-01.xml', _request_header={'user-agent': 'Fundus'}, recursive=True, reverse=False, sitemap_filter=<function Sitemap.<lambda> at 0x000001EF3C934700>), Sitemap(url='https://www.repubblica.it/sitemap-2022-12.xml', _request_header={'user-agent': 'Fundus'}, recursive=True, reverse=False, sitemap_filter=<function Sitemap.<lambda> at 0x000001EF3C934700>), Sitemap(url='https://www.repubblica.it/sitemap-2022-11.xml', _request_header={'user-agent': 'Fundus'}, recursive=True, reverse=False, sitemap_filter=<function Sitemap.<lambda> at 0x000001EF3C934700>), Sitemap(url='https://www.repubblica.it/sitemap-2022-10.xml', _request_header={'user-agent': 'Fundus'}, recursive=True, reverse=False, sitemap_filter=<function Sitemap.<lambda> at 0x000001EF3C934700>), Sitemap(url='https://www.repubblica.it/sitemap-2022-09.xml', _request_header={'user-agent': 'Fundus'}, recursive=True, reverse=False, sitemap_filter=<function Sitemap.<lambda> at 0x000001EF3C934700>), Sitemap(url='https://www.repubblica.it/sitemap-2022-08.xml', _request_header={'user-agent': 'Fundus'}, recursive=True, reverse=False, sitemap_filter=<function Sitemap.<lambda> at 0x000001EF3C934700>), Sitemap(url='https://www.repubblica.it/sitemap-2022-07.xml', _request_header={'user-agent': 'Fundus'}, recursive=True, reverse=False, sitemap_filter=<function Sitemap.<lambda> at 0x000001EF3C934700>), Sitemap(url='https://www.repubblica.it/sitemap-2022-06.xml', _request_header={'user-agent': 'Fundus'}, recursive=True, reverse=False, sitemap_filter=<function Sitemap.<lambda> at 0x000001EF3C934700>), Sitemap(url='https://www.repubblica.it/sitemap-2022-05.xml', _request_header={'user-agent': 'Fundus'}, recursive=True, reverse=False, sitemap_filter=<function Sitemap.<lambda> at 0x000001EF3C934700>), Sitemap(url='https://www.repubblica.it/sitemap-2022-04.xml', _request_header={'user-agent': 'Fundus'}, recursive=True, reverse=False, sitemap_filter=<function Sitemap.<lambda> at 0x000001EF3C934700>), Sitemap(url='https://www.repubblica.it/sitemap-2022-03.xml', _request_header={'user-agent': 'Fundus'}, recursive=True, reverse=False, sitemap_filter=<function Sitemap.<lambda> at 0x000001EF3C934700>), Sitemap(url='https://www.repubblica.it/sitemap-2022-02.xml', _request_header={'user-agent': 'Fundus'}, recursive=True, reverse=False, sitemap_filter=<function Sitemap.<lambda> at 0x000001EF3C934700>), Sitemap(url='https://www.repubblica.it/sitemap-2022-01.xml', _request_header={'user-agent': 'Fundus'}, recursive=True, reverse=False, sitemap_filter=<function Sitemap.<lambda> at 0x000001EF3C934700>), Sitemap(url='https://www.repubblica.it/sitemap-2021-12.xml', _request_header={'user-agent': 'Fundus'}, recursive=True, reverse=False, sitemap_filter=<function Sitemap.<lambda> at 0x000001EF3C934700>), Sitemap(url='https://www.repubblica.it/sitemap-2021-11.xml', _request_header={'user-agent': 'Fundus'}, recursive=True, reverse=False, sitemap_filter=<function Sitemap.<lambda> at 0x000001EF3C934700>), Sitemap(url='https://www.repubblica.it/sitemap-2021-10.xml', _request_header={'user-agent': 'Fundus'}, recursive=True, reverse=False, sitemap_filter=<function Sitemap.<lambda> at 0x000001EF3C934700>), Sitemap(url='https://www.repubblica.it/sitemap-2021-09.xml', _request_header={'user-agent': 'Fundus'}, recursive=True, reverse=False, sitemap_filter=<function Sitemap.<lambda> at 0x000001EF3C934700>), Sitemap(url='https://www.repubblica.it/sitemap-2021-08.xml', _request_header={'user-agent': 'Fundus'}, recursive=True, reverse=False, sitemap_filter=<function Sitemap.<lambda> at 0x000001EF3C934700>), Sitemap(url='https://www.repubblica.it/sitemap-2021-07.xml', _request_header={'user-agent': 'Fundus'}, recursive=True, reverse=False, sitemap_filter=<function Sitemap.<lambda> at 0x000001EF3C934700>), Sitemap(url='https://www.repubblica.it/sitemap-2021-06.xml', _request_header={'user-agent': 'Fundus'}, recursive=True, reverse=False, sitemap_filter=<function Sitemap.<lambda> at 0x000001EF3C934700>), Sitemap(url='https://www.repubblica.it/sitemap-2021-05.xml', _request_header={'user-agent': 'Fundus'}, recursive=True, reverse=False, sitemap_filter=<function Sitemap.<lambda> at 0x000001EF3C934700>), Sitemap(url='https://www.repubblica.it/sitemap-2021-04.xml', _request_header={'user-agent': 'Fundus'}, recursive=True, reverse=False, sitemap_filter=<function Sitemap.<lambda> at 0x000001EF3C934700>), Sitemap(url='https://www.repubblica.it/sitemap-2021-03.xml', _request_header={'user-agent': 'Fundus'}, recursive=True, reverse=False, sitemap_filter=<function Sitemap.<lambda> at 0x000001EF3C934700>), Sitemap(url='https://www.repubblica.it/sitemap-2021-02.xml', _request_header={'user-agent': 'Fundus'}, recursive=True, reverse=False, sitemap_filter=<function Sitemap.<lambda> at 0x000001EF3C934700>), Sitemap(url='https://www.repubblica.it/sitemap-2021-01.xml', _request_header={'user-agent': 'Fundus'}, recursive=True, reverse=False, sitemap_filter=<function Sitemap.<lambda> at 0x000001EF3C934700>), Sitemap(url='https://www.repubblica.it/sitemap-2020-12.xml', _request_header={'user-agent': 'Fundus'}, recursive=True, reverse=False, sitemap_filter=<function Sitemap.<lambda> at 0x000001EF3C934700>), Sitemap(url='https://www.repubblica.it/sitemap-2020-11.xml', _request_header={'user-agent': 'Fundus'}, recursive=True, reverse=False, sitemap_filter=<function Sitemap.<lambda> at 0x000001EF3C934700>), Sitemap(url='https://www.repubblica.it/sitemap-2020-10.xml', _request_header={'user-agent': 'Fundus'}, recursive=True, reverse=False, sitemap_filter=<function Sitemap.<lambda> at 0x000001EF3C934700>), Sitemap(url='https://www.repubblica.it/sitemap-2020-09.xml', _request_header={'user-agent': 'Fundus'}, recursive=True, reverse=False, sitemap_filter=<function Sitemap.<lambda> at 0x000001EF3C934700>), Sitemap(url='https://www.repubblica.it/sitemap-2020-08.xml', _request_header={'user-agent': 'Fundus'}, recursive=True, reverse=False, sitemap_filter=<function Sitemap.<lambda> at 0x000001EF3C934700>), Sitemap(url='https://www.repubblica.it/sitemap-2020-07.xml', _request_header={'user-agent': 'Fundus'}, recursive=True, reverse=False, sitemap_filter=<function Sitemap.<lambda> at 0x000001EF3C934700>), Sitemap(url='https://www.repubblica.it/sitemap-2020-06.xml', _request_header={'user-agent': 'Fundus'}, recursive=True, reverse=False, sitemap_filter=<function Sitemap.<lambda> at 0x000001EF3C934700>), Sitemap(url='https://www.repubblica.it/sitemap-2020-05.xml', _request_header={'user-agent': 'Fundus'}, recursive=True, reverse=False, sitemap_filter=<function Sitemap.<lambda> at 0x000001EF3C934700>), Sitemap(url='https://www.repubblica.it/sitemap-2020-04.xml', _request_header={'user-agent': 'Fundus'}, recursive=True, reverse=False, sitemap_filter=<function Sitemap.<lambda> at 0x000001EF3C934700>), Sitemap(url='https://www.repubblica.it/sitemap-2020-03.xml', _request_header={'user-agent': 'Fundus'}, recursive=True, reverse=False, sitemap_filter=<function Sitemap.<lambda> at 0x000001EF3C934700>), Sitemap(url='https://www.repubblica.it/sitemap-2020-02.xml', _request_header={'user-agent': 'Fundus'}, recursive=True, reverse=False, sitemap_filter=<function Sitemap.<lambda> at 0x000001EF3C934700>), Sitemap(url='https://www.repubblica.it/sitemap-2020-01.xml', _request_header={'user-agent': 'Fundus'}, recursive=True, reverse=False, sitemap_filter=<function Sitemap.<lambda> at 0x000001EF3C934700>)]}\n",
      "Medio Oriente, le notizie di oggi. Rapporto rivela: “Raid di Israele in impianto missilistico iraniano in Siria in operazione segreta”\n",
      "2024-12-30 11:24:32+00:00\n",
      "True\n",
      "Guerra Ucraina - Russia, le news di oggi. Bratislava: “Kiev consideri cedere territori a Mosca”\n",
      "2024-12-30 11:23:06+00:00\n",
      "True\n",
      "Turista ucciso da uno squalo tigre di 2,5 metri: “Attirato dai rifiuti scaricati dai pescatori”\n",
      "2024-12-30 11:07:17+00:00\n",
      "True\n",
      "I rimpianti di Biden: essersi ritirato e aver scelto il ministro della Giustizia sbagliato\n",
      "2024-12-30 10:34:08+00:00\n",
      "False\n",
      "Alberghi, taxi, Ncc: obbligo di pagamenti tracciabili per il rimborso delle spese deducibili\n",
      "2024-12-30 10:24:39+00:00\n",
      "False\n",
      "Dagli scout all'Arci, il terzo settore tira un sospiro di sollievo: l’Iva scatterà dal 2026\n",
      "2024-12-30 10:07:44+00:00\n",
      "False\n",
      "Martina Fumiatti uccisa a 9 anni da un piatto di gnocchi, riesumata la salma per l’autopsia\n",
      "2024-12-30 09:32:46+00:00\n",
      "False\n",
      "Gas, il braccio di ferro geopolitico si scarica in bolletta. Previsti rincari per il 2025\n",
      "2024-12-30 09:22:19+00:00\n",
      "False\n",
      "Fonseca, l’autoesonero e il giallo della clausola. Conceicao arriva ma trova un Milan nel caos\n",
      "2024-12-30 08:54:59+00:00\n",
      "False\n",
      "Turista tedesco muore intossicato dal monossido di carbonio a Cefalù, altri tre in gravi condizioni\n",
      "2024-12-30 08:22:34+00:00\n",
      "False\n"
     ]
    }
   ],
   "source": [
    "from fundus import PublisherCollection, Crawler\n",
    "\n",
    "# Change to:\n",
    "# PublisherCollection.<country_section>.<publisher_specification>\n",
    "publisher = PublisherCollection.it.LaRepubblica\n",
    "\n",
    "crawler = Crawler(publisher)\n",
    "\n",
    "for article in crawler.crawl(max_articles=10, only_complete=False):\n",
    "    print(article.title)\n",
    "    print(article.publishing_date)\n",
    "    print(article.free_access)\n"
   ]
  },
  {
   "cell_type": "code",
   "execution_count": 2,
   "metadata": {},
   "outputs": [
    {
     "name": "stdout",
     "output_type": "stream",
     "text": [
      "Saved 100 articles\n",
      "Saved 200 articles\n",
      "Saved 300 articles\n",
      "Saved 400 articles\n",
      "Saved 500 articles\n",
      "Saved 600 articles\n",
      "Saved 700 articles\n",
      "Saved 800 articles\n",
      "Saved 900 articles\n",
      "Saved 1000 articles\n",
      "Saved 1100 articles\n",
      "Saved 1200 articles\n",
      "Saved 1300 articles\n",
      "Saved 1400 articles\n",
      "Saved 1500 articles\n",
      "Saved 1600 articles\n",
      "Saved 1700 articles\n",
      "Saved 1800 articles\n",
      "Saved 1900 articles\n",
      "Saved 2000 articles\n",
      "Saved 2100 articles\n",
      "Saved 2200 articles\n",
      "Saved 2300 articles\n",
      "Saved 2400 articles\n",
      "Saved 2500 articles\n",
      "Saved 2600 articles\n",
      "Saved 2700 articles\n",
      "Saved 2800 articles\n",
      "Saved 2900 articles\n",
      "Saved 3000 articles\n",
      "Saved 3100 articles\n",
      "Saved 3200 articles\n",
      "Saved 3300 articles\n",
      "Saved 3400 articles\n",
      "Saved 3500 articles\n",
      "Saved 3600 articles\n",
      "Saved 3700 articles\n",
      "Saved 3800 articles\n"
     ]
    }
   ],
   "source": [
    "# crawla tutti gli articoli di repubblica.it e salva in un file json repubblica_articles.json\n",
    "\n",
    "from fundus import PublisherCollection, Crawler, Sitemap\n",
    "\n",
    "# Change to:\n",
    "# PublisherCollection.<country_section>.<publisher_specification>\n",
    "publisher = PublisherCollection.it.LaRepubblica\n",
    "\n",
    "crawler = Crawler(publisher, ignore_robots=True)\n",
    "\n",
    "i=0\n",
    "for article in crawler.crawl(save_to_file=\"repubblica_articles.json\", max_articles=10000000, only_complete=False):\n",
    "    i+=1\n",
    "    if i%100==0:\n",
    "        print(f\"Saved {i} articles\")\n"
   ]
  }
 ],
 "metadata": {
  "kernelspec": {
   "display_name": ".venv",
   "language": "python",
   "name": "python3"
  },
  "language_info": {
   "codemirror_mode": {
    "name": "ipython",
    "version": 3
   },
   "file_extension": ".py",
   "mimetype": "text/x-python",
   "name": "python",
   "nbconvert_exporter": "python",
   "pygments_lexer": "ipython3",
   "version": "3.10.15"
  }
 },
 "nbformat": 4,
 "nbformat_minor": 2
}
