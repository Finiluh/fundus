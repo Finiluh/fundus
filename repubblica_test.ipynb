{
 "cells": [
  {
   "cell_type": "code",
   "execution_count": 24,
   "metadata": {},
   "outputs": [],
   "source": [
    "from fundus import PublisherCollection, Crawler\n",
    "\n",
    "# Change to:\n",
    "# PublisherCollection.<country_section>.<publisher_specification>\n",
    "publisher = PublisherCollection.it.LaRepubblica\n",
    "\n",
    "crawler = Crawler(publisher)\n",
    "\n",
    "for article in crawler.crawl(max_articles=100, only_complete=True):\n",
    "    print(article.title)"
   ]
  },
  {
   "cell_type": "code",
   "execution_count": 2,
   "metadata": {},
   "outputs": [],
   "source": [
    "# crawla tutti gli articoli di repubblica.it e salva in un file json repubblica_articles.json\n",
    "\n",
    "from fundus import PublisherCollection, Crawler, Sitemap\n",
    "\n",
    "# Change to:\n",
    "# PublisherCollection.<country_section>.<publisher_specification>\n",
    "publisher = PublisherCollection.it.LaRepubblica\n",
    "\n",
    "crawler = Crawler(publisher, delay=0.5, ignore_robots=True)\n",
    "\n",
    "i=0\n",
    "for article in crawler.crawl(save_to_file=\"repubblica_articles.json\", max_articles=1000000):\n",
    "    i+=1\n",
    "    if i%1000==0:\n",
    "        print(f\"Saved {i} articles\")\n"
   ]
  }
 ],
 "metadata": {
  "kernelspec": {
   "display_name": ".venv",
   "language": "python",
   "name": "python3"
  },
  "language_info": {
   "codemirror_mode": {
    "name": "ipython",
    "version": 3
   },
   "file_extension": ".py",
   "mimetype": "text/x-python",
   "name": "python",
   "nbconvert_exporter": "python",
   "pygments_lexer": "ipython3",
   "version": "3.10.15"
  }
 },
 "nbformat": 4,
 "nbformat_minor": 2
}
